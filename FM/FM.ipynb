{
 "cells": [
  {
   "cell_type": "code",
   "execution_count": 88,
   "metadata": {},
   "outputs": [
    {
     "data": {
      "text/plain": [
       "<torch._C.Generator at 0x127c940d0>"
      ]
     },
     "execution_count": 88,
     "metadata": {},
     "output_type": "execute_result"
    }
   ],
   "source": [
    "import pandas as pd\n",
    "import numpy as np\n",
    "import torch\n",
    "from torch import nn\n",
    "from torch.optim import SGD, Adam\n",
    "from torch.utils.data import Dataset, DataLoader, random_split\n",
    "from tqdm import tqdm\n",
    "from sklearn.metrics import roc_auc_score\n",
    "import matplotlib.pyplot as plt\n",
    "\n",
    "\n",
    "torch.manual_seed(42)"
   ]
  },
  {
   "cell_type": "markdown",
   "metadata": {},
   "source": [
    "## DATA\n",
    "- [ml-latest-small](https://grouplens.org/datasets/movielens/latest/) "
   ]
  },
  {
   "cell_type": "code",
   "execution_count": 89,
   "metadata": {},
   "outputs": [],
   "source": [
    "raw_data = pd.read_csv(\"ratings.csv\")\n",
    "item_data = pd.read_csv(\"movies.csv\")\n",
    "\n",
    "'''\n",
    "movie id의 값  : [     1      3      6 ... 160836 163937 163981]\n",
    "movie id의 개수 : 9724\n",
    "{0:1}, {1:3}, ... , {9723:163981} 이런 형태로 id를 idx로 맵핑해준 데이터로 변환해서 사용\n",
    "최종 추천 결과를 출력할 때는, idx를 id로 맵핑한 결과를 보여주도록 함\n",
    "\n",
    "user id의 경우 [1,2,..., 609, 610], 개수는 610\n",
    "idx로 쓰려면 전체에 1을 빼주면 되지만, 편의를 위해 movie id처럼 맵핑해서 사용\n",
    "{0:1}, {1:2}, ... , {609:610}\n",
    "'''\n",
    "item2idx, idx2item = {}, {}\n",
    "user2idx, idx2user = {}, {}\n",
    "id2title = {}\n",
    "\n",
    "for idx, user_id in enumerate(np.unique(raw_data[\"userId\"])):\n",
    "    user2idx[user_id] = idx\n",
    "    idx2user[idx] = user_id\n",
    "for idx, item_id in enumerate(np.unique(raw_data[\"movieId\"])):\n",
    "    item2idx[item_id] = idx\n",
    "    idx2item[idx] = item_id\n",
    "\n",
    "# movieId - title mapping, 학습에 사용X, 후에 결과 출력에 사용하기 위함\n",
    "for i in range(item_data.shape[0]):\n",
    "    item_id = item_data.movieId[i]\n",
    "    id2title[item_id] = item_data.title[i]\n",
    "\n",
    "# make index data\n",
    "index_data = raw_data.copy()\n",
    "index_data[\"userId\"] = raw_data[\"userId\"].apply(lambda idx:user2idx[idx])\n",
    "index_data[\"movieId\"] = raw_data[\"movieId\"].apply(lambda idx:item2idx[idx])\n",
    "\n",
    "n_user = np.unique(raw_data[\"userId\"]).shape[0]\n",
    "n_item = np.unique(raw_data[\"movieId\"]).shape[0]"
   ]
  },
  {
   "cell_type": "code",
   "execution_count": 90,
   "metadata": {},
   "outputs": [
    {
     "data": {
      "text/html": [
       "<div>\n",
       "<style scoped>\n",
       "    .dataframe tbody tr th:only-of-type {\n",
       "        vertical-align: middle;\n",
       "    }\n",
       "\n",
       "    .dataframe tbody tr th {\n",
       "        vertical-align: top;\n",
       "    }\n",
       "\n",
       "    .dataframe thead th {\n",
       "        text-align: right;\n",
       "    }\n",
       "</style>\n",
       "<table border=\"1\" class=\"dataframe\">\n",
       "  <thead>\n",
       "    <tr style=\"text-align: right;\">\n",
       "      <th></th>\n",
       "      <th>userId</th>\n",
       "      <th>movieId</th>\n",
       "    </tr>\n",
       "  </thead>\n",
       "  <tbody>\n",
       "    <tr>\n",
       "      <th>0</th>\n",
       "      <td>0</td>\n",
       "      <td>0</td>\n",
       "    </tr>\n",
       "    <tr>\n",
       "      <th>1</th>\n",
       "      <td>0</td>\n",
       "      <td>2</td>\n",
       "    </tr>\n",
       "    <tr>\n",
       "      <th>2</th>\n",
       "      <td>0</td>\n",
       "      <td>5</td>\n",
       "    </tr>\n",
       "    <tr>\n",
       "      <th>3</th>\n",
       "      <td>0</td>\n",
       "      <td>43</td>\n",
       "    </tr>\n",
       "    <tr>\n",
       "      <th>4</th>\n",
       "      <td>0</td>\n",
       "      <td>46</td>\n",
       "    </tr>\n",
       "    <tr>\n",
       "      <th>...</th>\n",
       "      <td>...</td>\n",
       "      <td>...</td>\n",
       "    </tr>\n",
       "    <tr>\n",
       "      <th>100831</th>\n",
       "      <td>609</td>\n",
       "      <td>9416</td>\n",
       "    </tr>\n",
       "    <tr>\n",
       "      <th>100832</th>\n",
       "      <td>609</td>\n",
       "      <td>9443</td>\n",
       "    </tr>\n",
       "    <tr>\n",
       "      <th>100833</th>\n",
       "      <td>609</td>\n",
       "      <td>9444</td>\n",
       "    </tr>\n",
       "    <tr>\n",
       "      <th>100834</th>\n",
       "      <td>609</td>\n",
       "      <td>9445</td>\n",
       "    </tr>\n",
       "    <tr>\n",
       "      <th>100835</th>\n",
       "      <td>609</td>\n",
       "      <td>9485</td>\n",
       "    </tr>\n",
       "  </tbody>\n",
       "</table>\n",
       "<p>100836 rows × 2 columns</p>\n",
       "</div>"
      ],
      "text/plain": [
       "        userId  movieId\n",
       "0            0        0\n",
       "1            0        2\n",
       "2            0        5\n",
       "3            0       43\n",
       "4            0       46\n",
       "...        ...      ...\n",
       "100831     609     9416\n",
       "100832     609     9443\n",
       "100833     609     9444\n",
       "100834     609     9445\n",
       "100835     609     9485\n",
       "\n",
       "[100836 rows x 2 columns]"
      ]
     },
     "execution_count": 90,
     "metadata": {},
     "output_type": "execute_result"
    }
   ],
   "source": [
    "index_data[[\"userId\", \"movieId\"]]"
   ]
  },
  {
   "cell_type": "code",
   "execution_count": 91,
   "metadata": {},
   "outputs": [],
   "source": [
    "\n",
    "class MovieLensDataset(Dataset):\n",
    "    def __init__(self, data: pd.DataFrame, Binclf: bool = False):\n",
    "        self.data = data\n",
    "        self.Binclf = Binclf\n",
    "        self.items = torch.tensor(self.data[[\"userId\", \"movieId\"]].values)\n",
    "        self.targets = torch.tensor(self.data.rating.values)\n",
    "        self.field_dims = torch.max(self.items, axis=0).values + torch.tensor([1])\n",
    "        self.user_field_idx = torch.tensor([0])\n",
    "        self.item_field_idx = torch.tensor([0])\n",
    "\n",
    "        if self.Binclf:\n",
    "            self.__target2Bin()\n",
    "\n",
    "    def __len__(self) -> int:\n",
    "        return self.targets.shape[0]\n",
    "\n",
    "    def __getitem__(self, idx: int) -> tuple[torch.tensor, torch.tensor]:\n",
    "        return self.items[idx], self.targets[idx]\n",
    "\n",
    "    def __target2Bin(self):\n",
    "        self.targets[self.targets <= 3] = 0\n",
    "        self.targets[self.targets > 3] = 1"
   ]
  },
  {
   "cell_type": "markdown",
   "metadata": {},
   "source": [
    "## Model "
   ]
  },
  {
   "attachments": {
    "image.png": {
     "image/png": "[encoded data removed]"
    }
   },
   "cell_type": "markdown",
   "metadata": {},
   "source": [
    "- Linear term     \n",
    "![image.png](attachment:image.png)"
   ]
  },
  {
   "cell_type": "code",
   "execution_count": 92,
   "metadata": {},
   "outputs": [],
   "source": [
    "class FeatureLinear(nn.Module):\n",
    "    def __init__(self, field_dims, output_dim=1):\n",
    "        super().__init__()\n",
    "        self.fc = nn.Embedding(sum(field_dims), output_dim) # (n_user+n_item, output_dim)\n",
    "        self.bias = nn.Parameter(torch.zeros((output_dim,))) # global bias\n",
    "        self.offsets = np.array((0, *np.cumsum(field_dims)[:-1]), dtype=np.int_) # [0, n_user]\n",
    "\n",
    "    def forward(self, x):\n",
    "        '''\n",
    "        x : long tensor of size (batch, num_fields)\n",
    "            user, item\n",
    "        row   .    .\n",
    "        row   .    .\n",
    "        '''\n",
    "        x = x + x.new_tensor(self.offsets).unsqueeze(0) # item의 id에 유저의 수만큼 더해줌 103을 맞추기 위함\n",
    "        return torch.sum(self.fc(x), dim=1) + self.bias "
   ]
  },
  {
   "cell_type": "markdown",
   "metadata": {},
   "source": [
    "- FeatureEmbedding : V"
   ]
  },
  {
   "cell_type": "code",
   "execution_count": 93,
   "metadata": {},
   "outputs": [],
   "source": [
    "class FeatureEmbedding(nn.Module):\n",
    "    def __init__(self, field_dims, embed_dim=16):\n",
    "        super().__init__()\n",
    "        self.embedding = nn.Embedding(sum(field_dims), embed_dim) # (n_user+n_item, output_dim), 유저가 100명일 때, 아이템 3번의 위치는 103이 됨\n",
    "        self.offsets = np.array((0, *np.cumsum(field_dims)[:-1]), dtype=np.int_) # [0, n_user]\n",
    "        nn.init.xavier_uniform_(self.embedding.weight.data)\n",
    "\n",
    "    def forward(self, x):\n",
    "        '''\n",
    "        x : long tensor of size (batch, num_fields)\n",
    "            user, item\n",
    "        row\n",
    "        row\n",
    "        '''\n",
    "        x = x + x.new_tensor(self.offsets).unsqueeze(0) # item의 id에 유저의 수만큼 더해줌 103을 맞추기 위함\n",
    "        return self.embedding(x)"
   ]
  },
  {
   "attachments": {
    "image-2.png": {
     "image/png": "[encoded data removed]"
    },
    "image.png": {
     "image/png": "[encoded data removed]"
    }
   },
   "cell_type": "markdown",
   "metadata": {},
   "source": [
    "- ix   \n",
    "![image.png](attachment:image.png)\n",
    "- model eq   \n",
    "![image-2.png](attachment:image-2.png)"
   ]
  },
  {
   "cell_type": "code",
   "execution_count": 94,
   "metadata": {},
   "outputs": [],
   "source": [
    "class FM(nn.Module):\n",
    "    def __init__(self, field_dims, embed_dim=16, clf=False):\n",
    "        super().__init__()\n",
    "        self.linear = FeatureLinear(field_dims)\n",
    "        self.embedding = FeatureEmbedding(field_dims, embed_dim)\n",
    "        self.clf = clf\n",
    "\n",
    "    def forward(self, x):\n",
    "        '''\n",
    "        x : float tensor of size (batch, num_fields)\n",
    "            user, item\n",
    "        row\n",
    "        row\n",
    "        '''\n",
    "        square_of_sum = torch.sum(self.embedding(x),dim=1)**2\n",
    "        sum_of_square = torch.sum(self.embedding(x)**2, dim=1)\n",
    "        ix = 0.5*(torch.sum(square_of_sum - sum_of_square, dim=1, keepdim=True))\n",
    "        x = self.linear(x) + ix\n",
    "        if self.clf:\n",
    "            return torch.sigmoid(x.squeeze(1))\n",
    "        return x.squeeze(1)\n"
   ]
  },
  {
   "cell_type": "markdown",
   "metadata": {},
   "source": [
    "## trainer"
   ]
  },
  {
   "cell_type": "code",
   "execution_count": 95,
   "metadata": {},
   "outputs": [],
   "source": [
    "def train(model, optimizer, dataloader, criterion, device):\n",
    "    model.train()\n",
    "    total_loss = 0\n",
    "\n",
    "    for fields, target in tqdm(dataloader):\n",
    "\n",
    "        fields = fields.to(device)\n",
    "        target = target.to(device)\n",
    "\n",
    "        out = model(fields).double()\n",
    "        loss = criterion(out, target)\n",
    "        model.zero_grad()\n",
    "        loss.backward()\n",
    "        optimizer.step()\n",
    "        total_loss += loss.item()\n",
    "\n",
    "    return total_loss / len(dataloader)\n",
    "\n",
    "\n",
    "def eval(model, dataloader, device, criterion):\n",
    "    model.eval()\n",
    "    preds = []\n",
    "    total_loss = 0\n",
    "\n",
    "    with torch.no_grad():\n",
    "        for fields, target in dataloader:\n",
    "            fields = fields.to(device)\n",
    "            target = target.to(device)\n",
    "\n",
    "            out = model(fields).double()\n",
    "            total_loss += criterion(out, target)\n",
    "\n",
    "            preds.extend(out)\n",
    "\n",
    "    return torch.tensor(preds), total_loss / len(dataloader)"
   ]
  },
  {
   "cell_type": "code",
   "execution_count": 96,
   "metadata": {},
   "outputs": [],
   "source": [
    "def RMSE(actual, pred):\n",
    "    mse = nn.MSELoss()\n",
    "    eps = 1e-6\n",
    "    return torch.sqrt(mse(pred, actual)+eps)"
   ]
  },
  {
   "cell_type": "markdown",
   "metadata": {},
   "source": [
    "## Main\n",
    "- Reg case"
   ]
  },
  {
   "cell_type": "code",
   "execution_count": 109,
   "metadata": {},
   "outputs": [],
   "source": [
    "# Hyper parameters\n",
    "embed_dim = 70\n",
    "batch_size = 1024\n",
    "epochs = 50\n",
    "lr = 0.01\n",
    "weight_decay = 1e-3\n",
    "device = 'cpu'\n",
    "optimizer = \"Adam\"\n",
    "optims = {\"SGD\": SGD, \"Adam\": Adam}\n",
    "Binclf = False"
   ]
  },
  {
   "cell_type": "code",
   "execution_count": 110,
   "metadata": {},
   "outputs": [],
   "source": [
    "dataset = MovieLensDataset(index_data, Binclf)\n",
    "train_len = int(len(dataset)*0.8)\n",
    "valid_len = int(len(dataset)*0.1)\n",
    "test_len = len(dataset) - train_len - valid_len\n",
    "\n",
    "train_dataset, valid_dataset, test_dataset = random_split(dataset, (train_len, valid_len, test_len))\n",
    "\n",
    "train_dataloader = DataLoader(train_dataset, batch_size=batch_size)\n",
    "valid_dataloader = DataLoader(valid_dataset, batch_size=batch_size)\n",
    "test_dataloader = DataLoader(test_dataset, batch_size=batch_size)"
   ]
  },
  {
   "cell_type": "code",
   "execution_count": 111,
   "metadata": {},
   "outputs": [],
   "source": [
    "field_dims = dataset.field_dims\n",
    "\n",
    "model = FM(field_dims, embed_dim, Binclf)\n",
    "criterion = nn.BCELoss() if Binclf else RMSE\n",
    "metric = roc_auc_score if Binclf else RMSE"
   ]
  },
  {
   "cell_type": "code",
   "execution_count": 112,
   "metadata": {},
   "outputs": [
    {
     "name": "stderr",
     "output_type": "stream",
     "text": [
      "100%|██████████| 79/79 [00:00<00:00, 109.93it/s]\n"
     ]
    },
    {
     "name": "stdout",
     "output_type": "stream",
     "text": [
      "EPOCH : 1 | Train Loss : 3.1971148896739923 | Valid Loss : 2.289734736683214\n"
     ]
    },
    {
     "name": "stderr",
     "output_type": "stream",
     "text": [
      "100%|██████████| 79/79 [00:00<00:00, 113.17it/s]\n"
     ]
    },
    {
     "name": "stdout",
     "output_type": "stream",
     "text": [
      "EPOCH : 2 | Train Loss : 1.870429766073294 | Valid Loss : 1.4721145504643052\n"
     ]
    },
    {
     "name": "stderr",
     "output_type": "stream",
     "text": [
      "100%|██████████| 79/79 [00:00<00:00, 108.80it/s]\n"
     ]
    },
    {
     "name": "stdout",
     "output_type": "stream",
     "text": [
      "EPOCH : 3 | Train Loss : 1.247230337917132 | Valid Loss : 1.0495088410202047\n"
     ]
    },
    {
     "name": "stderr",
     "output_type": "stream",
     "text": [
      "100%|██████████| 79/79 [00:00<00:00, 114.84it/s]\n"
     ]
    },
    {
     "name": "stdout",
     "output_type": "stream",
     "text": [
      "EPOCH : 4 | Train Loss : 0.9756471650009998 | Valid Loss : 0.9290054772596298\n"
     ]
    },
    {
     "name": "stderr",
     "output_type": "stream",
     "text": [
      "100%|██████████| 79/79 [00:00<00:00, 133.66it/s]\n"
     ]
    },
    {
     "name": "stdout",
     "output_type": "stream",
     "text": [
      "EPOCH : 5 | Train Loss : 0.9229852638815825 | Valid Loss : 0.9156621599369185\n"
     ]
    },
    {
     "name": "stderr",
     "output_type": "stream",
     "text": [
      "100%|██████████| 79/79 [00:00<00:00, 120.24it/s]\n"
     ]
    },
    {
     "name": "stdout",
     "output_type": "stream",
     "text": [
      "EPOCH : 6 | Train Loss : 0.9154321896566084 | Valid Loss : 0.9130708190909653\n"
     ]
    },
    {
     "name": "stderr",
     "output_type": "stream",
     "text": [
      "100%|██████████| 79/79 [00:00<00:00, 119.97it/s]\n"
     ]
    },
    {
     "name": "stdout",
     "output_type": "stream",
     "text": [
      "EPOCH : 7 | Train Loss : 0.9132781676205141 | Valid Loss : 0.9122515405106938\n"
     ]
    },
    {
     "name": "stderr",
     "output_type": "stream",
     "text": [
      "100%|██████████| 79/79 [00:00<00:00, 134.61it/s]\n"
     ]
    },
    {
     "name": "stdout",
     "output_type": "stream",
     "text": [
      "EPOCH : 8 | Train Loss : 0.9124693484241412 | Valid Loss : 0.9119458523761346\n"
     ]
    },
    {
     "name": "stderr",
     "output_type": "stream",
     "text": [
      "100%|██████████| 79/79 [00:00<00:00, 136.66it/s]\n"
     ]
    },
    {
     "name": "stdout",
     "output_type": "stream",
     "text": [
      "EPOCH : 9 | Train Loss : 0.9121009913850452 | Valid Loss : 0.9118024092568235\n"
     ]
    },
    {
     "name": "stderr",
     "output_type": "stream",
     "text": [
      "100%|██████████| 79/79 [00:00<00:00, 107.64it/s]\n"
     ]
    },
    {
     "name": "stdout",
     "output_type": "stream",
     "text": [
      "EPOCH : 10 | Train Loss : 0.911923166222128 | Valid Loss : 0.9117259197448042\n"
     ]
    },
    {
     "name": "stderr",
     "output_type": "stream",
     "text": [
      "100%|██████████| 79/79 [00:00<00:00, 110.56it/s]\n"
     ]
    },
    {
     "name": "stdout",
     "output_type": "stream",
     "text": [
      "EPOCH : 11 | Train Loss : 0.9118271570290355 | Valid Loss : 0.9116963556302429\n"
     ]
    },
    {
     "name": "stderr",
     "output_type": "stream",
     "text": [
      "100%|██████████| 79/79 [00:00<00:00, 117.70it/s]\n"
     ]
    },
    {
     "name": "stdout",
     "output_type": "stream",
     "text": [
      "EPOCH : 12 | Train Loss : 0.9117766849263619 | Valid Loss : 0.9116746178927956\n"
     ]
    },
    {
     "name": "stderr",
     "output_type": "stream",
     "text": [
      "100%|██████████| 79/79 [00:00<00:00, 131.63it/s]\n"
     ]
    },
    {
     "name": "stdout",
     "output_type": "stream",
     "text": [
      "EPOCH : 13 | Train Loss : 0.9117534159509818 | Valid Loss : 0.9116701933307271\n"
     ]
    },
    {
     "name": "stderr",
     "output_type": "stream",
     "text": [
      "100%|██████████| 79/79 [00:00<00:00, 125.78it/s]\n"
     ]
    },
    {
     "name": "stdout",
     "output_type": "stream",
     "text": [
      "EPOCH : 14 | Train Loss : 0.911734620212322 | Valid Loss : 0.9116580437634203\n"
     ]
    },
    {
     "name": "stderr",
     "output_type": "stream",
     "text": [
      "100%|██████████| 79/79 [00:00<00:00, 112.96it/s]\n"
     ]
    },
    {
     "name": "stdout",
     "output_type": "stream",
     "text": [
      "EPOCH : 15 | Train Loss : 0.911729132266595 | Valid Loss : 0.9116578320076204\n"
     ]
    },
    {
     "name": "stderr",
     "output_type": "stream",
     "text": [
      "100%|██████████| 79/79 [00:00<00:00, 119.41it/s]\n"
     ]
    },
    {
     "name": "stdout",
     "output_type": "stream",
     "text": [
      "EPOCH : 16 | Train Loss : 0.9117236518646615 | Valid Loss : 0.9116568531912304\n"
     ]
    },
    {
     "name": "stderr",
     "output_type": "stream",
     "text": [
      "100%|██████████| 79/79 [00:00<00:00, 114.74it/s]\n"
     ]
    },
    {
     "name": "stdout",
     "output_type": "stream",
     "text": [
      "EPOCH : 17 | Train Loss : 0.9117203043390825 | Valid Loss : 0.9116548220209184\n"
     ]
    },
    {
     "name": "stderr",
     "output_type": "stream",
     "text": [
      "100%|██████████| 79/79 [00:00<00:00, 111.18it/s]\n"
     ]
    },
    {
     "name": "stdout",
     "output_type": "stream",
     "text": [
      "EPOCH : 18 | Train Loss : 0.9117208654028016 | Valid Loss : 0.9116543048454838\n"
     ]
    },
    {
     "name": "stderr",
     "output_type": "stream",
     "text": [
      "100%|██████████| 79/79 [00:00<00:00, 116.45it/s]\n"
     ]
    },
    {
     "name": "stdout",
     "output_type": "stream",
     "text": [
      "EPOCH : 19 | Train Loss : 0.9117182194156235 | Valid Loss : 0.9116586045795589\n"
     ]
    },
    {
     "name": "stderr",
     "output_type": "stream",
     "text": [
      "100%|██████████| 79/79 [00:00<00:00, 131.96it/s]\n"
     ]
    },
    {
     "name": "stdout",
     "output_type": "stream",
     "text": [
      "EPOCH : 20 | Train Loss : 0.9117196190076926 | Valid Loss : 0.9116535881575805\n"
     ]
    },
    {
     "name": "stderr",
     "output_type": "stream",
     "text": [
      "100%|██████████| 79/79 [00:00<00:00, 127.32it/s]\n"
     ]
    },
    {
     "name": "stdout",
     "output_type": "stream",
     "text": [
      "EPOCH : 21 | Train Loss : 0.911718197956484 | Valid Loss : 0.9116557196804864\n"
     ]
    },
    {
     "name": "stderr",
     "output_type": "stream",
     "text": [
      "100%|██████████| 79/79 [00:00<00:00, 128.95it/s]\n"
     ]
    },
    {
     "name": "stdout",
     "output_type": "stream",
     "text": [
      "EPOCH : 22 | Train Loss : 0.9117179979387783 | Valid Loss : 0.911656206092149\n"
     ]
    },
    {
     "name": "stderr",
     "output_type": "stream",
     "text": [
      "100%|██████████| 79/79 [00:00<00:00, 133.10it/s]\n"
     ]
    },
    {
     "name": "stdout",
     "output_type": "stream",
     "text": [
      "EPOCH : 23 | Train Loss : 0.9117189585098578 | Valid Loss : 0.9116561011095963\n"
     ]
    },
    {
     "name": "stderr",
     "output_type": "stream",
     "text": [
      "100%|██████████| 79/79 [00:00<00:00, 113.96it/s]\n"
     ]
    },
    {
     "name": "stdout",
     "output_type": "stream",
     "text": [
      "EPOCH : 24 | Train Loss : 0.9117186215099018 | Valid Loss : 0.9116539602566727\n"
     ]
    },
    {
     "name": "stderr",
     "output_type": "stream",
     "text": [
      "100%|██████████| 79/79 [00:00<00:00, 114.76it/s]\n"
     ]
    },
    {
     "name": "stdout",
     "output_type": "stream",
     "text": [
      "EPOCH : 25 | Train Loss : 0.9117172731776872 | Valid Loss : 0.9116575527707417\n"
     ]
    },
    {
     "name": "stderr",
     "output_type": "stream",
     "text": [
      "100%|██████████| 79/79 [00:00<00:00, 115.13it/s]\n"
     ]
    },
    {
     "name": "stdout",
     "output_type": "stream",
     "text": [
      "EPOCH : 26 | Train Loss : 0.9117165402136841 | Valid Loss : 0.9116519848993642\n"
     ]
    },
    {
     "name": "stderr",
     "output_type": "stream",
     "text": [
      "100%|██████████| 79/79 [00:00<00:00, 121.99it/s]\n"
     ]
    },
    {
     "name": "stdout",
     "output_type": "stream",
     "text": [
      "EPOCH : 27 | Train Loss : 0.9117203366561063 | Valid Loss : 0.91165752035555\n"
     ]
    },
    {
     "name": "stderr",
     "output_type": "stream",
     "text": [
      "100%|██████████| 79/79 [00:00<00:00, 129.58it/s]\n"
     ]
    },
    {
     "name": "stdout",
     "output_type": "stream",
     "text": [
      "EPOCH : 28 | Train Loss : 0.911714744588838 | Valid Loss : 0.9116557330410103\n"
     ]
    },
    {
     "name": "stderr",
     "output_type": "stream",
     "text": [
      "100%|██████████| 79/79 [00:00<00:00, 105.58it/s]\n"
     ]
    },
    {
     "name": "stdout",
     "output_type": "stream",
     "text": [
      "EPOCH : 29 | Train Loss : 0.9117214319534531 | Valid Loss : 0.9116555267032069\n"
     ]
    },
    {
     "name": "stderr",
     "output_type": "stream",
     "text": [
      "100%|██████████| 79/79 [00:00<00:00, 110.68it/s]\n"
     ]
    },
    {
     "name": "stdout",
     "output_type": "stream",
     "text": [
      "EPOCH : 30 | Train Loss : 0.911716201742977 | Valid Loss : 0.9116516224460733\n"
     ]
    },
    {
     "name": "stderr",
     "output_type": "stream",
     "text": [
      "100%|██████████| 79/79 [00:00<00:00, 97.59it/s] \n"
     ]
    },
    {
     "name": "stdout",
     "output_type": "stream",
     "text": [
      "EPOCH : 31 | Train Loss : 0.9117198752527501 | Valid Loss : 0.9116583846791958\n"
     ]
    },
    {
     "name": "stderr",
     "output_type": "stream",
     "text": [
      "100%|██████████| 79/79 [00:00<00:00, 116.00it/s]\n"
     ]
    },
    {
     "name": "stdout",
     "output_type": "stream",
     "text": [
      "EPOCH : 32 | Train Loss : 0.9117158314249818 | Valid Loss : 0.9116520916962386\n"
     ]
    },
    {
     "name": "stderr",
     "output_type": "stream",
     "text": [
      "100%|██████████| 79/79 [00:00<00:00, 120.40it/s]\n"
     ]
    },
    {
     "name": "stdout",
     "output_type": "stream",
     "text": [
      "EPOCH : 33 | Train Loss : 0.9117214957915898 | Valid Loss : 0.9116558177703824\n"
     ]
    },
    {
     "name": "stderr",
     "output_type": "stream",
     "text": [
      "100%|██████████| 79/79 [00:00<00:00, 125.41it/s]\n"
     ]
    },
    {
     "name": "stdout",
     "output_type": "stream",
     "text": [
      "EPOCH : 34 | Train Loss : 0.9117160708768747 | Valid Loss : 0.9116540463241776\n"
     ]
    },
    {
     "name": "stderr",
     "output_type": "stream",
     "text": [
      "100%|██████████| 79/79 [00:00<00:00, 129.22it/s]\n"
     ]
    },
    {
     "name": "stdout",
     "output_type": "stream",
     "text": [
      "EPOCH : 35 | Train Loss : 0.9117206588397554 | Valid Loss : 0.9116570189426734\n"
     ]
    },
    {
     "name": "stderr",
     "output_type": "stream",
     "text": [
      "100%|██████████| 79/79 [00:00<00:00, 132.22it/s]\n"
     ]
    },
    {
     "name": "stdout",
     "output_type": "stream",
     "text": [
      "EPOCH : 36 | Train Loss : 0.9117162610114071 | Valid Loss : 0.9116530388577413\n"
     ]
    },
    {
     "name": "stderr",
     "output_type": "stream",
     "text": [
      "100%|██████████| 79/79 [00:00<00:00, 108.89it/s]\n"
     ]
    },
    {
     "name": "stdout",
     "output_type": "stream",
     "text": [
      "EPOCH : 37 | Train Loss : 0.9117190597610209 | Valid Loss : 0.9116583948787994\n"
     ]
    },
    {
     "name": "stderr",
     "output_type": "stream",
     "text": [
      "100%|██████████| 79/79 [00:00<00:00, 115.69it/s]\n"
     ]
    },
    {
     "name": "stdout",
     "output_type": "stream",
     "text": [
      "EPOCH : 38 | Train Loss : 0.91171626991566 | Valid Loss : 0.9116511992752686\n"
     ]
    },
    {
     "name": "stderr",
     "output_type": "stream",
     "text": [
      "100%|██████████| 79/79 [00:00<00:00, 118.56it/s]\n"
     ]
    },
    {
     "name": "stdout",
     "output_type": "stream",
     "text": [
      "EPOCH : 39 | Train Loss : 0.9117187844019476 | Valid Loss : 0.9116547641978716\n"
     ]
    },
    {
     "name": "stderr",
     "output_type": "stream",
     "text": [
      "100%|██████████| 79/79 [00:00<00:00, 133.39it/s]\n"
     ]
    },
    {
     "name": "stdout",
     "output_type": "stream",
     "text": [
      "EPOCH : 40 | Train Loss : 0.911717735444399 | Valid Loss : 0.911656473857958\n"
     ]
    },
    {
     "name": "stderr",
     "output_type": "stream",
     "text": [
      "100%|██████████| 79/79 [00:00<00:00, 135.73it/s]\n"
     ]
    },
    {
     "name": "stdout",
     "output_type": "stream",
     "text": [
      "EPOCH : 41 | Train Loss : 0.9117179305647546 | Valid Loss : 0.9116548346619945\n"
     ]
    },
    {
     "name": "stderr",
     "output_type": "stream",
     "text": [
      "100%|██████████| 79/79 [00:00<00:00, 105.56it/s]\n"
     ]
    },
    {
     "name": "stdout",
     "output_type": "stream",
     "text": [
      "EPOCH : 42 | Train Loss : 0.9117193996437875 | Valid Loss : 0.9116517548833938\n"
     ]
    },
    {
     "name": "stderr",
     "output_type": "stream",
     "text": [
      "100%|██████████| 79/79 [00:00<00:00, 111.58it/s]\n"
     ]
    },
    {
     "name": "stdout",
     "output_type": "stream",
     "text": [
      "EPOCH : 43 | Train Loss : 0.9117171724779356 | Valid Loss : 0.9116569356947014\n"
     ]
    },
    {
     "name": "stderr",
     "output_type": "stream",
     "text": [
      "100%|██████████| 79/79 [00:00<00:00, 113.00it/s]\n"
     ]
    },
    {
     "name": "stdout",
     "output_type": "stream",
     "text": [
      "EPOCH : 44 | Train Loss : 0.9117195885492984 | Valid Loss : 0.9116547535924667\n"
     ]
    },
    {
     "name": "stderr",
     "output_type": "stream",
     "text": [
      "100%|██████████| 79/79 [00:00<00:00, 111.99it/s]\n"
     ]
    },
    {
     "name": "stdout",
     "output_type": "stream",
     "text": [
      "EPOCH : 45 | Train Loss : 0.9117178229923575 | Valid Loss : 0.9116543140508993\n"
     ]
    },
    {
     "name": "stderr",
     "output_type": "stream",
     "text": [
      "100%|██████████| 79/79 [00:00<00:00, 130.90it/s]\n"
     ]
    },
    {
     "name": "stdout",
     "output_type": "stream",
     "text": [
      "EPOCH : 46 | Train Loss : 0.9117207600060252 | Valid Loss : 0.9116552702704583\n"
     ]
    },
    {
     "name": "stderr",
     "output_type": "stream",
     "text": [
      "100%|██████████| 79/79 [00:00<00:00, 120.68it/s]\n"
     ]
    },
    {
     "name": "stdout",
     "output_type": "stream",
     "text": [
      "EPOCH : 47 | Train Loss : 0.9117179627883019 | Valid Loss : 0.9116560260995221\n"
     ]
    },
    {
     "name": "stderr",
     "output_type": "stream",
     "text": [
      "100%|██████████| 79/79 [00:00<00:00, 134.68it/s]\n"
     ]
    },
    {
     "name": "stdout",
     "output_type": "stream",
     "text": [
      "EPOCH : 48 | Train Loss : 0.911718883491646 | Valid Loss : 0.911652896943874\n"
     ]
    },
    {
     "name": "stderr",
     "output_type": "stream",
     "text": [
      "100%|██████████| 79/79 [00:00<00:00, 135.40it/s]\n"
     ]
    },
    {
     "name": "stdout",
     "output_type": "stream",
     "text": [
      "EPOCH : 49 | Train Loss : 0.9117194903157773 | Valid Loss : 0.9116575599680162\n"
     ]
    },
    {
     "name": "stderr",
     "output_type": "stream",
     "text": [
      "100%|██████████| 79/79 [00:00<00:00, 117.31it/s]\n"
     ]
    },
    {
     "name": "stdout",
     "output_type": "stream",
     "text": [
      "EPOCH : 50 | Train Loss : 0.9117191415975974 | Valid Loss : 0.9116540846712125\n",
      "BEST EPOCH : 38 | Best Valid Loss : 0.9116511992752686\n"
     ]
    }
   ],
   "source": [
    "best_loss = 1e5\n",
    "best_epoch = 1\n",
    "all_train_loss = []\n",
    "all_valid_loss = []\n",
    "\n",
    "for epoch in range(1, epochs+1):\n",
    "    train_loss = train(model, optims[optimizer](params=model.parameters(), lr=lr, weight_decay=weight_decay), train_dataloader, criterion, device)\n",
    "    pred, valid_loss = eval(model, valid_dataloader, device, criterion)\n",
    "\n",
    "    print(f'EPOCH : {epoch} | Train Loss : {train_loss} | Valid Loss : {valid_loss}')\n",
    "    all_train_loss.append(train_loss)\n",
    "    all_valid_loss.append(valid_loss)\n",
    "\n",
    "    if valid_loss < best_loss:\n",
    "        best_loss = valid_loss\n",
    "        best_epoch = epoch\n",
    "\n",
    "print(f'BEST EPOCH : {best_epoch} | Best Valid Loss : {best_loss}')"
   ]
  },
  {
   "cell_type": "code",
   "execution_count": 115,
   "metadata": {},
   "outputs": [
    {
     "name": "stdout",
     "output_type": "stream",
     "text": [
      "test score : 0.9176460758922429\n",
      "tensor([4.0000, 4.0000, 3.0000,  ..., 4.0000, 3.0000, 3.5000],\n",
      "       dtype=torch.float64) tensor([4.1085, 3.8275, 3.9296,  ..., 3.7911, 2.8514, 3.5996],\n",
      "       dtype=torch.float64)\n"
     ]
    }
   ],
   "source": [
    "pred, _ = eval(model, test_dataloader, device, criterion)\n",
    "target = dataset.targets[test_dataset.indices]\n",
    "print(f'test score : {metric(target,pred)}')\n",
    "print(target, pred)\n"
   ]
  },
  {
   "cell_type": "code",
   "execution_count": 116,
   "metadata": {},
   "outputs": [
    {
     "name": "stdout",
     "output_type": "stream",
     "text": [
      "tensor(2.0331, dtype=torch.float64)\n",
      "tensor(4.8848, dtype=torch.float64)\n"
     ]
    }
   ],
   "source": [
    "print(min(pred))\n",
    "print(max(pred))"
   ]
  },
  {
   "cell_type": "code",
   "execution_count": 117,
   "metadata": {},
   "outputs": [
    {
     "data": {
      "text/plain": [
       "<matplotlib.legend.Legend at 0x28c2d9570>"
      ]
     },
     "execution_count": 117,
     "metadata": {},
     "output_type": "execute_result"
    },
    {
     "data": {
      "image/png": "[encoded data removed]",
      "text/plain": [
       "<Figure size 640x480 with 1 Axes>"
      ]
     },
     "metadata": {},
     "output_type": "display_data"
    }
   ],
   "source": [
    "plt.xlabel(\"epoch\")\n",
    "plt.ylabel(\"Loss\")\n",
    "plt.plot(range(1,epochs+1), all_valid_loss, color = \"red\", label='valid') \n",
    "plt.plot(range(1,epochs+1), all_train_loss, color = \"green\", label='train')\n",
    "plt.legend()"
   ]
  },
  {
   "cell_type": "markdown",
   "metadata": {},
   "source": [
    "- Binary clf case"
   ]
  },
  {
   "cell_type": "code",
   "execution_count": 118,
   "metadata": {},
   "outputs": [
    {
     "name": "stderr",
     "output_type": "stream",
     "text": [
      "100%|██████████| 79/79 [00:00<00:00, 108.93it/s]\n"
     ]
    },
    {
     "name": "stdout",
     "output_type": "stream",
     "text": [
      "EPOCH : 1 | Train Loss : 0.7972575235292129 | Valid Loss : 0.7234601097667649\n"
     ]
    },
    {
     "name": "stderr",
     "output_type": "stream",
     "text": [
      "100%|██████████| 79/79 [00:00<00:00, 127.32it/s]\n"
     ]
    },
    {
     "name": "stdout",
     "output_type": "stream",
     "text": [
      "EPOCH : 2 | Train Loss : 0.6724533390576515 | Valid Loss : 0.6470293353435475\n"
     ]
    },
    {
     "name": "stderr",
     "output_type": "stream",
     "text": [
      "100%|██████████| 79/79 [00:00<00:00, 105.46it/s]\n"
     ]
    },
    {
     "name": "stdout",
     "output_type": "stream",
     "text": [
      "EPOCH : 3 | Train Loss : 0.622797688278041 | Valid Loss : 0.6178511760151907\n"
     ]
    },
    {
     "name": "stderr",
     "output_type": "stream",
     "text": [
      "100%|██████████| 79/79 [00:00<00:00, 111.34it/s]\n"
     ]
    },
    {
     "name": "stdout",
     "output_type": "stream",
     "text": [
      "EPOCH : 4 | Train Loss : 0.6056253162860044 | Valid Loss : 0.6090264485000259\n"
     ]
    },
    {
     "name": "stderr",
     "output_type": "stream",
     "text": [
      "100%|██████████| 79/79 [00:00<00:00, 114.95it/s]\n"
     ]
    },
    {
     "name": "stdout",
     "output_type": "stream",
     "text": [
      "EPOCH : 5 | Train Loss : 0.6006616940169136 | Valid Loss : 0.6070204682022149\n"
     ]
    },
    {
     "name": "stderr",
     "output_type": "stream",
     "text": [
      "100%|██████████| 79/79 [00:00<00:00, 114.48it/s]\n"
     ]
    },
    {
     "name": "stdout",
     "output_type": "stream",
     "text": [
      "EPOCH : 6 | Train Loss : 0.5995242836242997 | Valid Loss : 0.6067227191578101\n"
     ]
    },
    {
     "name": "stderr",
     "output_type": "stream",
     "text": [
      "100%|██████████| 79/79 [00:00<00:00, 116.22it/s]\n"
     ]
    },
    {
     "name": "stdout",
     "output_type": "stream",
     "text": [
      "EPOCH : 7 | Train Loss : 0.5993412918030943 | Valid Loss : 0.6066851661546879\n"
     ]
    },
    {
     "name": "stderr",
     "output_type": "stream",
     "text": [
      "100%|██████████| 79/79 [00:00<00:00, 116.37it/s]\n"
     ]
    },
    {
     "name": "stdout",
     "output_type": "stream",
     "text": [
      "EPOCH : 8 | Train Loss : 0.5992993388885383 | Valid Loss : 0.6066725702807764\n"
     ]
    },
    {
     "name": "stderr",
     "output_type": "stream",
     "text": [
      "100%|██████████| 79/79 [00:00<00:00, 112.05it/s]\n"
     ]
    },
    {
     "name": "stdout",
     "output_type": "stream",
     "text": [
      "EPOCH : 9 | Train Loss : 0.5992834142170547 | Valid Loss : 0.6066688563063984\n"
     ]
    },
    {
     "name": "stderr",
     "output_type": "stream",
     "text": [
      "100%|██████████| 79/79 [00:00<00:00, 115.04it/s]\n"
     ]
    },
    {
     "name": "stdout",
     "output_type": "stream",
     "text": [
      "EPOCH : 10 | Train Loss : 0.5992784602546718 | Valid Loss : 0.6066667425689364\n"
     ]
    },
    {
     "name": "stderr",
     "output_type": "stream",
     "text": [
      "100%|██████████| 79/79 [00:00<00:00, 114.11it/s]\n"
     ]
    },
    {
     "name": "stdout",
     "output_type": "stream",
     "text": [
      "EPOCH : 11 | Train Loss : 0.5992760782300472 | Valid Loss : 0.6066666388737981\n"
     ]
    },
    {
     "name": "stderr",
     "output_type": "stream",
     "text": [
      "100%|██████████| 79/79 [00:00<00:00, 130.59it/s]\n"
     ]
    },
    {
     "name": "stdout",
     "output_type": "stream",
     "text": [
      "EPOCH : 12 | Train Loss : 0.5992756316518182 | Valid Loss : 0.6066659447186894\n"
     ]
    },
    {
     "name": "stderr",
     "output_type": "stream",
     "text": [
      "100%|██████████| 79/79 [00:00<00:00, 115.48it/s]\n"
     ]
    },
    {
     "name": "stdout",
     "output_type": "stream",
     "text": [
      "EPOCH : 13 | Train Loss : 0.5992747923289405 | Valid Loss : 0.6066663417386691\n"
     ]
    },
    {
     "name": "stderr",
     "output_type": "stream",
     "text": [
      "100%|██████████| 79/79 [00:00<00:00, 114.08it/s]\n"
     ]
    },
    {
     "name": "stdout",
     "output_type": "stream",
     "text": [
      "EPOCH : 14 | Train Loss : 0.5992752936023072 | Valid Loss : 0.6066658423870028\n"
     ]
    },
    {
     "name": "stderr",
     "output_type": "stream",
     "text": [
      "100%|██████████| 79/79 [00:00<00:00, 132.52it/s]\n"
     ]
    },
    {
     "name": "stdout",
     "output_type": "stream",
     "text": [
      "EPOCH : 15 | Train Loss : 0.5992745790568195 | Valid Loss : 0.6066663046435279\n"
     ]
    },
    {
     "name": "stderr",
     "output_type": "stream",
     "text": [
      "100%|██████████| 79/79 [00:00<00:00, 130.20it/s]\n"
     ]
    },
    {
     "name": "stdout",
     "output_type": "stream",
     "text": [
      "EPOCH : 16 | Train Loss : 0.5992756536791404 | Valid Loss : 0.6066657935518431\n"
     ]
    },
    {
     "name": "stderr",
     "output_type": "stream",
     "text": [
      "100%|██████████| 79/79 [00:00<00:00, 132.85it/s]\n"
     ]
    },
    {
     "name": "stdout",
     "output_type": "stream",
     "text": [
      "EPOCH : 17 | Train Loss : 0.5992745452704097 | Valid Loss : 0.606666300991829\n"
     ]
    },
    {
     "name": "stderr",
     "output_type": "stream",
     "text": [
      "100%|██████████| 79/79 [00:00<00:00, 132.20it/s]\n"
     ]
    },
    {
     "name": "stdout",
     "output_type": "stream",
     "text": [
      "EPOCH : 18 | Train Loss : 0.599275316088329 | Valid Loss : 0.6066658100327059\n"
     ]
    },
    {
     "name": "stderr",
     "output_type": "stream",
     "text": [
      "100%|██████████| 79/79 [00:00<00:00, 127.91it/s]\n"
     ]
    },
    {
     "name": "stdout",
     "output_type": "stream",
     "text": [
      "EPOCH : 19 | Train Loss : 0.5992747885102164 | Valid Loss : 0.6066663225929692\n"
     ]
    },
    {
     "name": "stderr",
     "output_type": "stream",
     "text": [
      "100%|██████████| 79/79 [00:00<00:00, 126.98it/s]\n"
     ]
    },
    {
     "name": "stdout",
     "output_type": "stream",
     "text": [
      "EPOCH : 20 | Train Loss : 0.5992751081286474 | Valid Loss : 0.6066658700391038\n"
     ]
    },
    {
     "name": "stderr",
     "output_type": "stream",
     "text": [
      "100%|██████████| 79/79 [00:00<00:00, 131.46it/s]\n"
     ]
    },
    {
     "name": "stdout",
     "output_type": "stream",
     "text": [
      "EPOCH : 21 | Train Loss : 0.5992748313669822 | Valid Loss : 0.6066662541936949\n"
     ]
    },
    {
     "name": "stderr",
     "output_type": "stream",
     "text": [
      "100%|██████████| 79/79 [00:00<00:00, 115.86it/s]\n"
     ]
    },
    {
     "name": "stdout",
     "output_type": "stream",
     "text": [
      "EPOCH : 22 | Train Loss : 0.5992755584905122 | Valid Loss : 0.6066658022700098\n"
     ]
    },
    {
     "name": "stderr",
     "output_type": "stream",
     "text": [
      "100%|██████████| 79/79 [00:00<00:00, 117.58it/s]\n"
     ]
    },
    {
     "name": "stdout",
     "output_type": "stream",
     "text": [
      "EPOCH : 23 | Train Loss : 0.5992747268763486 | Valid Loss : 0.6066662653334681\n"
     ]
    },
    {
     "name": "stderr",
     "output_type": "stream",
     "text": [
      "100%|██████████| 79/79 [00:00<00:00, 125.67it/s]\n"
     ]
    },
    {
     "name": "stdout",
     "output_type": "stream",
     "text": [
      "EPOCH : 24 | Train Loss : 0.5992748084822507 | Valid Loss : 0.6066657948049043\n"
     ]
    },
    {
     "name": "stderr",
     "output_type": "stream",
     "text": [
      "100%|██████████| 79/79 [00:00<00:00, 134.40it/s]\n"
     ]
    },
    {
     "name": "stdout",
     "output_type": "stream",
     "text": [
      "EPOCH : 25 | Train Loss : 0.5992748686694145 | Valid Loss : 0.6066662965377655\n"
     ]
    },
    {
     "name": "stderr",
     "output_type": "stream",
     "text": [
      "100%|██████████| 79/79 [00:00<00:00, 131.69it/s]\n"
     ]
    },
    {
     "name": "stdout",
     "output_type": "stream",
     "text": [
      "EPOCH : 26 | Train Loss : 0.5992747065705395 | Valid Loss : 0.6066657919285714\n"
     ]
    },
    {
     "name": "stderr",
     "output_type": "stream",
     "text": [
      "100%|██████████| 79/79 [00:00<00:00, 131.65it/s]\n"
     ]
    },
    {
     "name": "stdout",
     "output_type": "stream",
     "text": [
      "EPOCH : 27 | Train Loss : 0.5992752212128832 | Valid Loss : 0.6066663142777664\n"
     ]
    },
    {
     "name": "stderr",
     "output_type": "stream",
     "text": [
      "100%|██████████| 79/79 [00:00<00:00, 116.95it/s]\n"
     ]
    },
    {
     "name": "stdout",
     "output_type": "stream",
     "text": [
      "EPOCH : 28 | Train Loss : 0.5992751654664642 | Valid Loss : 0.6066657892176732\n"
     ]
    },
    {
     "name": "stderr",
     "output_type": "stream",
     "text": [
      "100%|██████████| 79/79 [00:00<00:00, 117.41it/s]\n"
     ]
    },
    {
     "name": "stdout",
     "output_type": "stream",
     "text": [
      "EPOCH : 29 | Train Loss : 0.599274692179917 | Valid Loss : 0.6066662958722208\n"
     ]
    },
    {
     "name": "stderr",
     "output_type": "stream",
     "text": [
      "100%|██████████| 79/79 [00:00<00:00, 110.85it/s]\n"
     ]
    },
    {
     "name": "stdout",
     "output_type": "stream",
     "text": [
      "EPOCH : 30 | Train Loss : 0.599275119866826 | Valid Loss : 0.6066657987915873\n"
     ]
    },
    {
     "name": "stderr",
     "output_type": "stream",
     "text": [
      "100%|██████████| 79/79 [00:00<00:00, 133.28it/s]\n"
     ]
    },
    {
     "name": "stdout",
     "output_type": "stream",
     "text": [
      "EPOCH : 31 | Train Loss : 0.5992748611671722 | Valid Loss : 0.6066662806796804\n"
     ]
    },
    {
     "name": "stderr",
     "output_type": "stream",
     "text": [
      "100%|██████████| 79/79 [00:00<00:00, 132.76it/s]\n"
     ]
    },
    {
     "name": "stdout",
     "output_type": "stream",
     "text": [
      "EPOCH : 32 | Train Loss : 0.5992757876755986 | Valid Loss : 0.6066658171986135\n"
     ]
    },
    {
     "name": "stderr",
     "output_type": "stream",
     "text": [
      "100%|██████████| 79/79 [00:00<00:00, 111.48it/s]\n"
     ]
    },
    {
     "name": "stdout",
     "output_type": "stream",
     "text": [
      "EPOCH : 33 | Train Loss : 0.5992747487177087 | Valid Loss : 0.6066662780615966\n"
     ]
    },
    {
     "name": "stderr",
     "output_type": "stream",
     "text": [
      "100%|██████████| 79/79 [00:00<00:00, 115.10it/s]\n"
     ]
    },
    {
     "name": "stdout",
     "output_type": "stream",
     "text": [
      "EPOCH : 34 | Train Loss : 0.5992750587407056 | Valid Loss : 0.6066658075341135\n"
     ]
    },
    {
     "name": "stderr",
     "output_type": "stream",
     "text": [
      "100%|██████████| 79/79 [00:00<00:00, 105.36it/s]\n"
     ]
    },
    {
     "name": "stdout",
     "output_type": "stream",
     "text": [
      "EPOCH : 35 | Train Loss : 0.5992747110976412 | Valid Loss : 0.6066663044060803\n"
     ]
    },
    {
     "name": "stderr",
     "output_type": "stream",
     "text": [
      "100%|██████████| 79/79 [00:00<00:00, 124.18it/s]\n"
     ]
    },
    {
     "name": "stdout",
     "output_type": "stream",
     "text": [
      "EPOCH : 36 | Train Loss : 0.5992754176464029 | Valid Loss : 0.6066657958791296\n"
     ]
    },
    {
     "name": "stderr",
     "output_type": "stream",
     "text": [
      "100%|██████████| 79/79 [00:00<00:00, 119.54it/s]\n"
     ]
    },
    {
     "name": "stdout",
     "output_type": "stream",
     "text": [
      "EPOCH : 37 | Train Loss : 0.5992748323608509 | Valid Loss : 0.6066662668996673\n"
     ]
    },
    {
     "name": "stderr",
     "output_type": "stream",
     "text": [
      "100%|██████████| 79/79 [00:00<00:00, 112.94it/s]\n"
     ]
    },
    {
     "name": "stdout",
     "output_type": "stream",
     "text": [
      "EPOCH : 38 | Train Loss : 0.5992752266142127 | Valid Loss : 0.6066658634558043\n"
     ]
    },
    {
     "name": "stderr",
     "output_type": "stream",
     "text": [
      "100%|██████████| 79/79 [00:00<00:00, 103.66it/s]\n"
     ]
    },
    {
     "name": "stdout",
     "output_type": "stream",
     "text": [
      "EPOCH : 39 | Train Loss : 0.599274606815017 | Valid Loss : 0.6066662921191274\n"
     ]
    },
    {
     "name": "stderr",
     "output_type": "stream",
     "text": [
      "100%|██████████| 79/79 [00:00<00:00, 106.87it/s]\n"
     ]
    },
    {
     "name": "stdout",
     "output_type": "stream",
     "text": [
      "EPOCH : 40 | Train Loss : 0.5992750497534155 | Valid Loss : 0.6066658140762998\n"
     ]
    },
    {
     "name": "stderr",
     "output_type": "stream",
     "text": [
      "100%|██████████| 79/79 [00:00<00:00, 114.19it/s]\n"
     ]
    },
    {
     "name": "stdout",
     "output_type": "stream",
     "text": [
      "EPOCH : 41 | Train Loss : 0.5992743354579605 | Valid Loss : 0.6066662881780003\n"
     ]
    },
    {
     "name": "stderr",
     "output_type": "stream",
     "text": [
      "100%|██████████| 79/79 [00:00<00:00, 118.01it/s]\n"
     ]
    },
    {
     "name": "stdout",
     "output_type": "stream",
     "text": [
      "EPOCH : 42 | Train Loss : 0.5992753977999509 | Valid Loss : 0.6066658005557669\n"
     ]
    },
    {
     "name": "stderr",
     "output_type": "stream",
     "text": [
      "100%|██████████| 79/79 [00:00<00:00, 115.41it/s]\n"
     ]
    },
    {
     "name": "stdout",
     "output_type": "stream",
     "text": [
      "EPOCH : 43 | Train Loss : 0.5992745576182745 | Valid Loss : 0.606666312674242\n"
     ]
    },
    {
     "name": "stderr",
     "output_type": "stream",
     "text": [
      "100%|██████████| 79/79 [00:00<00:00, 111.36it/s]\n"
     ]
    },
    {
     "name": "stdout",
     "output_type": "stream",
     "text": [
      "EPOCH : 44 | Train Loss : 0.599275274829273 | Valid Loss : 0.6066658292505939\n"
     ]
    },
    {
     "name": "stderr",
     "output_type": "stream",
     "text": [
      "100%|██████████| 79/79 [00:00<00:00, 117.50it/s]\n"
     ]
    },
    {
     "name": "stdout",
     "output_type": "stream",
     "text": [
      "EPOCH : 45 | Train Loss : 0.5992747137402022 | Valid Loss : 0.6066662618200125\n"
     ]
    },
    {
     "name": "stderr",
     "output_type": "stream",
     "text": [
      "100%|██████████| 79/79 [00:00<00:00, 115.70it/s]\n"
     ]
    },
    {
     "name": "stdout",
     "output_type": "stream",
     "text": [
      "EPOCH : 46 | Train Loss : 0.5992750886409745 | Valid Loss : 0.6066657825556945\n"
     ]
    },
    {
     "name": "stderr",
     "output_type": "stream",
     "text": [
      "100%|██████████| 79/79 [00:00<00:00, 130.82it/s]\n"
     ]
    },
    {
     "name": "stdout",
     "output_type": "stream",
     "text": [
      "EPOCH : 47 | Train Loss : 0.5992743038567953 | Valid Loss : 0.6066663116569143\n"
     ]
    },
    {
     "name": "stderr",
     "output_type": "stream",
     "text": [
      "100%|██████████| 79/79 [00:00<00:00, 132.17it/s]\n"
     ]
    },
    {
     "name": "stdout",
     "output_type": "stream",
     "text": [
      "EPOCH : 48 | Train Loss : 0.5992752975979441 | Valid Loss : 0.6066657758625259\n"
     ]
    },
    {
     "name": "stderr",
     "output_type": "stream",
     "text": [
      "100%|██████████| 79/79 [00:00<00:00, 129.66it/s]\n"
     ]
    },
    {
     "name": "stdout",
     "output_type": "stream",
     "text": [
      "EPOCH : 49 | Train Loss : 0.5992746437136193 | Valid Loss : 0.6066663164776169\n"
     ]
    },
    {
     "name": "stderr",
     "output_type": "stream",
     "text": [
      "100%|██████████| 79/79 [00:00<00:00, 128.42it/s]\n"
     ]
    },
    {
     "name": "stdout",
     "output_type": "stream",
     "text": [
      "EPOCH : 50 | Train Loss : 0.5992752608329671 | Valid Loss : 0.6066658201008029\n",
      "BEST EPOCH : 48 | Best Valid Loss : 0.6066657758625259\n"
     ]
    }
   ],
   "source": [
    "# Hyper parameters\n",
    "embed_dim = 70\n",
    "batch_size = 1024\n",
    "epochs = 50\n",
    "lr = 0.001\n",
    "weight_decay = 1e-3\n",
    "device = 'cpu'\n",
    "optimizer = \"Adam\"\n",
    "optims = {\"SGD\": SGD, \"Adam\": Adam}\n",
    "Binclf = True\n",
    "\n",
    "dataset = MovieLensDataset(index_data, Binclf)\n",
    "train_len = int(len(dataset)*0.8)\n",
    "valid_len = int(len(dataset)*0.1)\n",
    "test_len = len(dataset) - train_len - valid_len\n",
    "\n",
    "train_dataset, valid_dataset, test_dataset = random_split(dataset, (train_len, valid_len, test_len))\n",
    "\n",
    "train_dataloader = DataLoader(train_dataset, batch_size=batch_size)\n",
    "valid_dataloader = DataLoader(valid_dataset, batch_size=batch_size)\n",
    "test_dataloader = DataLoader(test_dataset, batch_size=batch_size)\n",
    "\n",
    "field_dims = dataset.field_dims\n",
    "\n",
    "model = FM(field_dims, embed_dim, Binclf)\n",
    "criterion = nn.BCELoss() if Binclf else RMSE\n",
    "metric = roc_auc_score if Binclf else RMSE\n",
    "\n",
    "best_loss = 1e5\n",
    "best_epoch = 1\n",
    "all_train_loss = []\n",
    "all_valid_loss = []\n",
    "\n",
    "for epoch in range(1, epochs+1):\n",
    "    train_loss = train(model, optims[optimizer](params=model.parameters(), lr=lr, weight_decay=weight_decay), train_dataloader, criterion, device)\n",
    "    pred, valid_loss = eval(model, valid_dataloader, device, criterion)\n",
    "\n",
    "    print(f'EPOCH : {epoch} | Train Loss : {train_loss} | Valid Loss : {valid_loss}')\n",
    "    all_train_loss.append(train_loss)\n",
    "    all_valid_loss.append(valid_loss)\n",
    "\n",
    "    if valid_loss < best_loss:\n",
    "        best_loss = valid_loss\n",
    "        best_epoch = epoch\n",
    "\n",
    "print(f'BEST EPOCH : {best_epoch} | Best Valid Loss : {best_loss}')"
   ]
  },
  {
   "cell_type": "code",
   "execution_count": 119,
   "metadata": {},
   "outputs": [
    {
     "name": "stdout",
     "output_type": "stream",
     "text": [
      "test score : 0.7420730646148765\n",
      "tensor([1., 0., 1.,  ..., 1., 1., 1.], dtype=torch.float64) tensor([0.7497, 0.6436, 0.5805,  ..., 0.7040, 0.7205, 0.6158],\n",
      "       dtype=torch.float64)\n"
     ]
    },
    {
     "data": {
      "text/plain": [
       "<matplotlib.legend.Legend at 0x2992210f0>"
      ]
     },
     "execution_count": 119,
     "metadata": {},
     "output_type": "execute_result"
    },
    {
     "data": {
      "image/png": "[encoded data removed]",
      "text/plain": [
       "<Figure size 640x480 with 1 Axes>"
      ]
     },
     "metadata": {},
     "output_type": "display_data"
    }
   ],
   "source": [
    "pred, _ = eval(model, test_dataloader, device, criterion)\n",
    "target = dataset.targets[test_dataset.indices]\n",
    "print(f'test score : {metric(target,pred)}')\n",
    "print(target, pred)\n",
    "\n",
    "plt.xlabel(\"epoch\")\n",
    "plt.ylabel(\"Loss\")\n",
    "plt.plot(range(1,epochs+1), all_valid_loss, color = \"red\", label='valid') \n",
    "plt.plot(range(1,epochs+1), all_train_loss, color = \"green\", label='train')\n",
    "plt.legend()\n"
   ]
  }
 ],
 "metadata": {
  "kernelspec": {
   "display_name": "sequential",
   "language": "python",
   "name": "python3"
  },
  "language_info": {
   "codemirror_mode": {
    "name": "ipython",
    "version": 3
   },
   "file_extension": ".py",
   "mimetype": "text/x-python",
   "name": "python",
   "nbconvert_exporter": "python",
   "pygments_lexer": "ipython3",
   "version": "3.10.11"
  },
  "orig_nbformat": 4
 },
 "nbformat": 4,
 "nbformat_minor": 2
}
